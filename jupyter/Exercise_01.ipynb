{
 "cells": [
  {
   "cell_type": "markdown",
   "id": "9c33da87-28de-4f5a-aa91-aec408c56e44",
   "metadata": {},
   "source": [
    "# Exercise 01: Running a Jupter Notebook"
   ]
  },
  {
   "cell_type": "markdown",
   "id": "d51125cf-9ca4-4344-9484-6bc75bab77a0",
   "metadata": {},
   "source": [
    "**DO NOT BLINDLY RUN THIS NOTEBOOK IN ITS ENTIRETY.  STEP THROUGH IT BOX-BY-BOX.**\n",
    "\n",
    "First, verify that you set up your local environment with the correct version of python."
   ]
  },
  {
   "cell_type": "code",
   "execution_count": 1,
   "id": "c9cc4990-c417-4636-b207-46c6c14926b9",
   "metadata": {},
   "outputs": [
    {
     "name": "stdout",
     "output_type": "stream",
     "text": [
      "3.10.13 (main, Feb  3 2024, 21:19:28) [GCC 7.3.1 20180712 (Red Hat 7.3.1-17)]\n"
     ]
    }
   ],
   "source": [
    "import sys\n",
    "print(sys.version)"
   ]
  },
  {
   "cell_type": "markdown",
   "id": "38ae9cb8-d7df-4fdd-9fad-2adffb7e412e",
   "metadata": {},
   "source": [
    "If the above doesn't say `3.10.13`, then you should exit this notebook and create a clean directory and properly set the virtualenv.\n",
    "\n",
    "**DO NOT PROCEED UNLESS YOU ARE GETTING THE CORRECT PYTHON VERSION**"
   ]
  },
  {
   "cell_type": "markdown",
   "id": "d301bbed-0fd7-4156-86b8-d77f130b12e1",
   "metadata": {},
   "source": [
    "Now, let's make sure you're in a clean virtualenv:"
   ]
  },
  {
   "cell_type": "code",
   "execution_count": 2,
   "id": "2cc7fe4b-bc12-45c5-aeb6-6b97acc3a962",
   "metadata": {},
   "outputs": [
    {
     "name": "stdout",
     "output_type": "stream",
     "text": [
      "=======\n",
      "found scikit-learn\n",
      "=======\n"
     ]
    }
   ],
   "source": [
    "import pkg_resources\n",
    "import re\n",
    "\n",
    "print(\"=======\")\n",
    "pat = re.compile('scikit')\n",
    "for p in pkg_resources.working_set:\n",
    "    if pat.search(p.project_name):\n",
    "        print(f\"found {p.project_name}\")\n",
    "print(\"=======\")"
   ]
  },
  {
   "cell_type": "markdown",
   "id": "0f616230-dc8a-45c0-9139-0a42fc8bbc25",
   "metadata": {},
   "source": [
    "If this is your first time running this notebook in this directory and nothing is printed between the lines, you're in clean virtualenv.  Proceed to the next step!\n",
    "\n",
    "If not, **YOU ACCIDENTIALLY SET YOUR VIRTUALENV TO AN EXISTING ONE, AND RISK MESSING IT UP BADLY**.  Try again in a new directory.\n",
    "\n",
    "If this is not your first time running this notbook in this directory, then you've probably already installed `scikit-learn` and should expect to see it in the list above."
   ]
  },
  {
   "cell_type": "markdown",
   "id": "49ba54f8-4d45-488c-b020-79550251eae6",
   "metadata": {},
   "source": [
    "Now we're ready to install `scikit-learn` and `matplotlib`:"
   ]
  },
  {
   "cell_type": "code",
   "execution_count": 4,
   "id": "0ee33ebc-13fe-4a34-8295-f057db4be33d",
   "metadata": {
    "collapsed": true,
    "jupyter": {
     "outputs_hidden": true
    },
    "scrolled": true
   },
   "outputs": [
    {
     "name": "stdout",
     "output_type": "stream",
     "text": [
      "Requirement already satisfied: scikit-learn in /home/justin/.pyenv/versions/3.10.13/envs/spriNGboard_env_junk/lib/python3.10/site-packages (1.4.0)\n",
      "Requirement already satisfied: matplotlib in /home/justin/.pyenv/versions/3.10.13/envs/spriNGboard_env_junk/lib/python3.10/site-packages (3.8.2)\n",
      "Requirement already satisfied: joblib>=1.2.0 in /home/justin/.pyenv/versions/3.10.13/envs/spriNGboard_env_junk/lib/python3.10/site-packages (from scikit-learn) (1.3.2)\n",
      "Requirement already satisfied: numpy<2.0,>=1.19.5 in /home/justin/.pyenv/versions/3.10.13/envs/spriNGboard_env_junk/lib/python3.10/site-packages (from scikit-learn) (1.26.3)\n",
      "Requirement already satisfied: threadpoolctl>=2.0.0 in /home/justin/.pyenv/versions/3.10.13/envs/spriNGboard_env_junk/lib/python3.10/site-packages (from scikit-learn) (3.2.0)\n",
      "Requirement already satisfied: scipy>=1.6.0 in /home/justin/.pyenv/versions/3.10.13/envs/spriNGboard_env_junk/lib/python3.10/site-packages (from scikit-learn) (1.12.0)\n",
      "Requirement already satisfied: packaging>=20.0 in /home/justin/.pyenv/versions/3.10.13/envs/spriNGboard_env_junk/lib/python3.10/site-packages (from matplotlib) (23.2)\n",
      "Requirement already satisfied: python-dateutil>=2.7 in /home/justin/.pyenv/versions/3.10.13/envs/spriNGboard_env_junk/lib/python3.10/site-packages (from matplotlib) (2.8.2)\n",
      "Requirement already satisfied: cycler>=0.10 in /home/justin/.pyenv/versions/3.10.13/envs/spriNGboard_env_junk/lib/python3.10/site-packages (from matplotlib) (0.12.1)\n",
      "Requirement already satisfied: fonttools>=4.22.0 in /home/justin/.pyenv/versions/3.10.13/envs/spriNGboard_env_junk/lib/python3.10/site-packages (from matplotlib) (4.47.2)\n",
      "Requirement already satisfied: pillow>=8 in /home/justin/.pyenv/versions/3.10.13/envs/spriNGboard_env_junk/lib/python3.10/site-packages (from matplotlib) (10.2.0)\n",
      "Requirement already satisfied: pyparsing>=2.3.1 in /home/justin/.pyenv/versions/3.10.13/envs/spriNGboard_env_junk/lib/python3.10/site-packages (from matplotlib) (3.1.1)\n",
      "Requirement already satisfied: contourpy>=1.0.1 in /home/justin/.pyenv/versions/3.10.13/envs/spriNGboard_env_junk/lib/python3.10/site-packages (from matplotlib) (1.2.0)\n",
      "Requirement already satisfied: kiwisolver>=1.3.1 in /home/justin/.pyenv/versions/3.10.13/envs/spriNGboard_env_junk/lib/python3.10/site-packages (from matplotlib) (1.4.5)\n",
      "Requirement already satisfied: six>=1.5 in /home/justin/.pyenv/versions/3.10.13/envs/spriNGboard_env_junk/lib/python3.10/site-packages (from python-dateutil>=2.7->matplotlib) (1.16.0)\n",
      "\n",
      "\u001b[1m[\u001b[0m\u001b[34;49mnotice\u001b[0m\u001b[1;39;49m]\u001b[0m\u001b[39;49m A new release of pip is available: \u001b[0m\u001b[31;49m23.0.1\u001b[0m\u001b[39;49m -> \u001b[0m\u001b[32;49m24.0\u001b[0m\n",
      "\u001b[1m[\u001b[0m\u001b[34;49mnotice\u001b[0m\u001b[1;39;49m]\u001b[0m\u001b[39;49m To update, run: \u001b[0m\u001b[32;49mpython3.10 -m pip install --upgrade pip\u001b[0m\n"
     ]
    }
   ],
   "source": [
    "import sys\n",
    "!{sys.executable} -m pip install -U scikit-learn matplotlib"
   ]
  },
  {
   "cell_type": "markdown",
   "id": "4ded9955-61a3-442f-9b14-2b9dd0afff1a",
   "metadata": {},
   "source": [
    "The following code is from [this tutorial](https://scikit-learn.org/stable/auto_examples/classification/plot_digits_classification.html#sphx-glr-auto-examples-classification-plot-digits-classification-py) that you'll be looking at later.  Go ahead and run it."
   ]
  },
  {
   "cell_type": "code",
   "execution_count": 5,
   "id": "825cd04d-bda8-4a8b-a1ab-f9cb08fc4d16",
   "metadata": {},
   "outputs": [
    {
     "data": {
      "image/png": "[encoded data removed]",
      "text/plain": [
       "<Figure size 1000x300 with 10 Axes>"
      ]
     },
     "metadata": {},
     "output_type": "display_data"
    }
   ],
   "source": [
    "import matplotlib.pyplot as plt\n",
    "\n",
    "from sklearn import datasets, metrics, svm\n",
    "from sklearn.model_selection import train_test_split\n",
    "\n",
    "digits = datasets.load_digits()\n",
    "\n",
    "_, axes = plt.subplots(nrows=1, ncols=10, figsize=(10, 3))\n",
    "for ax, image, label in zip(axes, digits.images, digits.target):\n",
    "    ax.set_axis_off()\n",
    "    ax.imshow(image, cmap=plt.cm.gray_r, interpolation=\"nearest\")\n",
    "    ax.set_title(\"%i\" % label)"
   ]
  },
  {
   "cell_type": "markdown",
   "id": "a330d320-58c2-467a-b29f-978f2d90fea6",
   "metadata": {},
   "source": [
    "You should see the digits from 0-9."
   ]
  },
  {
   "cell_type": "markdown",
   "id": "544b2ce9-f42d-4cba-9872-fea4ebe1a408",
   "metadata": {},
   "source": [
    "Add a markdown cell below this one, and put a suggestion for a spriNGboard topic that you'd like to see."
   ]
  },
  {
   "cell_type": "markdown",
   "id": "2d9ddd34-c69b-492a-bd23-610b617ab566",
   "metadata": {},
   "source": [
    "Git merge conflicts"
   ]
  }
 ],
 "metadata": {
  "kernelspec": {
   "display_name": "Python 3 (ipykernel)",
   "language": "python",
   "name": "python3"
  },
  "language_info": {
   "codemirror_mode": {
    "name": "ipython",
    "version": 3
   },
   "file_extension": ".py",
   "mimetype": "text/x-python",
   "name": "python",
   "nbconvert_exporter": "python",
   "pygments_lexer": "ipython3",
   "version": "3.10.13"
  }
 },
 "nbformat": 4,
 "nbformat_minor": 5
}
